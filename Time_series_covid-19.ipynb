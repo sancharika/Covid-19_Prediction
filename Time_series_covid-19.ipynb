{
 "cells": [
  {
   "cell_type": "code",
   "execution_count": 1,
   "metadata": {},
   "outputs": [],
   "source": [
    "#### Prblm statement-->> predict the total number of confirmed cases"
   ]
  },
  {
   "cell_type": "code",
   "execution_count": 6,
   "metadata": {},
   "outputs": [
    {
     "name": "stdout",
     "output_type": "stream",
     "text": [
      "Collecting fbprophet\n",
      "  Using cached fbprophet-0.7.1.tar.gz (64 kB)\n",
      "Requirement already satisfied: Cython>=0.22 in c:\\users\\kiit\\anaconda3\\envs\\pytorch\\lib\\site-packages (from fbprophet) (0.29.24)\n",
      "Requirement already satisfied: cmdstanpy==0.9.5 in c:\\users\\kiit\\anaconda3\\envs\\pytorch\\lib\\site-packages (from fbprophet) (0.9.5)\n",
      "Requirement already satisfied: pystan>=2.14 in c:\\users\\kiit\\anaconda3\\envs\\pytorch\\lib\\site-packages (from fbprophet) (2.19.1.1)\n",
      "Requirement already satisfied: numpy>=1.15.4 in c:\\users\\kiit\\appdata\\roaming\\python\\python37\\site-packages (from fbprophet) (1.19.5)\n",
      "Requirement already satisfied: pandas>=1.0.4 in c:\\users\\kiit\\anaconda3\\envs\\pytorch\\lib\\site-packages (from fbprophet) (1.2.3)\n",
      "Requirement already satisfied: matplotlib>=2.0.0 in c:\\users\\kiit\\anaconda3\\envs\\pytorch\\lib\\site-packages (from fbprophet) (3.4.2)\n",
      "Requirement already satisfied: LunarCalendar>=0.0.9 in c:\\users\\kiit\\anaconda3\\envs\\pytorch\\lib\\site-packages (from fbprophet) (0.0.9)\n",
      "Requirement already satisfied: convertdate>=2.1.2 in c:\\users\\kiit\\anaconda3\\envs\\pytorch\\lib\\site-packages (from fbprophet) (2.3.2)\n",
      "Requirement already satisfied: holidays>=0.10.2 in c:\\users\\kiit\\anaconda3\\envs\\pytorch\\lib\\site-packages (from fbprophet) (0.11.2)\n",
      "Requirement already satisfied: setuptools-git>=1.2 in c:\\users\\kiit\\anaconda3\\envs\\pytorch\\lib\\site-packages (from fbprophet) (1.2)\n",
      "Requirement already satisfied: python-dateutil>=2.8.0 in c:\\users\\kiit\\anaconda3\\envs\\pytorch\\lib\\site-packages (from fbprophet) (2.8.2)\n",
      "Requirement already satisfied: tqdm>=4.36.1 in c:\\users\\kiit\\anaconda3\\envs\\pytorch\\lib\\site-packages (from fbprophet) (4.62.0)\n",
      "Requirement already satisfied: pytz>=2014.10 in c:\\users\\kiit\\anaconda3\\envs\\pytorch\\lib\\site-packages (from convertdate>=2.1.2->fbprophet) (2021.1)\n",
      "Requirement already satisfied: pymeeus<=1,>=0.3.13 in c:\\users\\kiit\\anaconda3\\envs\\pytorch\\lib\\site-packages (from convertdate>=2.1.2->fbprophet) (0.5.11)\n",
      "Requirement already satisfied: korean-lunar-calendar in c:\\users\\kiit\\anaconda3\\envs\\pytorch\\lib\\site-packages (from holidays>=0.10.2->fbprophet) (0.2.1)\n",
      "Requirement already satisfied: six in c:\\users\\kiit\\appdata\\roaming\\python\\python37\\site-packages (from holidays>=0.10.2->fbprophet) (1.15.0)\n",
      "Requirement already satisfied: hijri-converter in c:\\users\\kiit\\anaconda3\\envs\\pytorch\\lib\\site-packages (from holidays>=0.10.2->fbprophet) (2.2.1)\n",
      "Requirement already satisfied: ephem>=3.7.5.3 in c:\\users\\kiit\\anaconda3\\envs\\pytorch\\lib\\site-packages (from LunarCalendar>=0.0.9->fbprophet) (4.0.0.2)\n",
      "Requirement already satisfied: pillow>=6.2.0 in c:\\users\\kiit\\anaconda3\\envs\\pytorch\\lib\\site-packages (from matplotlib>=2.0.0->fbprophet) (8.3.1)\n",
      "Requirement already satisfied: kiwisolver>=1.0.1 in c:\\users\\kiit\\anaconda3\\envs\\pytorch\\lib\\site-packages (from matplotlib>=2.0.0->fbprophet) (1.3.1)\n",
      "Requirement already satisfied: cycler>=0.10 in c:\\users\\kiit\\anaconda3\\envs\\pytorch\\lib\\site-packages (from matplotlib>=2.0.0->fbprophet) (0.10.0)\n",
      "Requirement already satisfied: pyparsing>=2.2.1 in c:\\users\\kiit\\anaconda3\\envs\\pytorch\\lib\\site-packages (from matplotlib>=2.0.0->fbprophet) (2.4.7)\n",
      "Requirement already satisfied: colorama in c:\\users\\kiit\\anaconda3\\envs\\pytorch\\lib\\site-packages (from tqdm>=4.36.1->fbprophet) (0.4.4)\n",
      "Building wheels for collected packages: fbprophet\n",
      "  Building wheel for fbprophet (setup.py): started\n",
      "  Building wheel for fbprophet (setup.py): still running...\n",
      "  Building wheel for fbprophet (setup.py): finished with status 'done'\n",
      "  Created wheel for fbprophet: filename=fbprophet-0.7.1-py3-none-any.whl size=521347 sha256=0b57e4cff6e49284056e869dce7795bb4a3de7f173ef69dbb89653c635aa2d44\n",
      "  Stored in directory: c:\\users\\kiit\\appdata\\local\\pip\\cache\\wheels\\cd\\a1\\12\\db63ff624de492fe6cccf676091a0860fdde2ffde4bc3280e2\n",
      "Successfully built fbprophet\n",
      "Installing collected packages: fbprophet\n",
      "Successfully installed fbprophet-0.7.1\n"
     ]
    }
   ],
   "source": [
    "#!pip install pystan\n",
    "!pip install fbprophet"
   ]
  },
  {
   "cell_type": "code",
   "execution_count": 8,
   "metadata": {
    "scrolled": true
   },
   "outputs": [],
   "source": [
    "import fbprophet"
   ]
  },
  {
   "cell_type": "code",
   "execution_count": 9,
   "metadata": {},
   "outputs": [],
   "source": [
    "from fbprophet import Prophet"
   ]
  },
  {
   "cell_type": "code",
   "execution_count": 10,
   "metadata": {},
   "outputs": [
    {
     "data": {
      "text/plain": [
       "['__class__',\n",
       " '__delattr__',\n",
       " '__dict__',\n",
       " '__dir__',\n",
       " '__doc__',\n",
       " '__eq__',\n",
       " '__format__',\n",
       " '__ge__',\n",
       " '__getattribute__',\n",
       " '__gt__',\n",
       " '__hash__',\n",
       " '__init__',\n",
       " '__init_subclass__',\n",
       " '__le__',\n",
       " '__lt__',\n",
       " '__module__',\n",
       " '__ne__',\n",
       " '__new__',\n",
       " '__reduce__',\n",
       " '__reduce_ex__',\n",
       " '__repr__',\n",
       " '__setattr__',\n",
       " '__sizeof__',\n",
       " '__str__',\n",
       " '__subclasshook__',\n",
       " '__weakref__',\n",
       " '_load_stan_backend',\n",
       " 'add_country_holidays',\n",
       " 'add_group_component',\n",
       " 'add_regressor',\n",
       " 'add_seasonality',\n",
       " 'construct_holiday_dataframe',\n",
       " 'fit',\n",
       " 'flat_growth_init',\n",
       " 'flat_trend',\n",
       " 'fourier_series',\n",
       " 'initialize_scales',\n",
       " 'linear_growth_init',\n",
       " 'logistic_growth_init',\n",
       " 'make_all_seasonality_features',\n",
       " 'make_future_dataframe',\n",
       " 'make_holiday_features',\n",
       " 'make_seasonality_features',\n",
       " 'parse_seasonality_args',\n",
       " 'percentile',\n",
       " 'piecewise_linear',\n",
       " 'piecewise_logistic',\n",
       " 'plot',\n",
       " 'plot_components',\n",
       " 'predict',\n",
       " 'predict_seasonal_components',\n",
       " 'predict_trend',\n",
       " 'predict_uncertainty',\n",
       " 'predictive_samples',\n",
       " 'regressor_column_matrix',\n",
       " 'sample_model',\n",
       " 'sample_posterior_predictive',\n",
       " 'sample_predictive_trend',\n",
       " 'set_auto_seasonalities',\n",
       " 'set_changepoints',\n",
       " 'setup_dataframe',\n",
       " 'validate_column_name',\n",
       " 'validate_inputs']"
      ]
     },
     "execution_count": 10,
     "metadata": {},
     "output_type": "execute_result"
    }
   ],
   "source": [
    "### to check all the function & modules inside Prophet\n",
    "dir(Prophet)"
   ]
  },
  {
   "cell_type": "code",
   "execution_count": null,
   "metadata": {},
   "outputs": [],
   "source": []
  },
  {
   "cell_type": "code",
   "execution_count": 11,
   "metadata": {},
   "outputs": [],
   "source": [
    "import pandas as pd"
   ]
  },
  {
   "cell_type": "code",
   "execution_count": 12,
   "metadata": {},
   "outputs": [],
   "source": [
    "df=pd.read_csv(r'covid_19_clean_complete.csv')"
   ]
  },
  {
   "cell_type": "code",
   "execution_count": 13,
   "metadata": {},
   "outputs": [
    {
     "data": {
      "text/html": [
       "<div>\n",
       "<style scoped>\n",
       "    .dataframe tbody tr th:only-of-type {\n",
       "        vertical-align: middle;\n",
       "    }\n",
       "\n",
       "    .dataframe tbody tr th {\n",
       "        vertical-align: top;\n",
       "    }\n",
       "\n",
       "    .dataframe thead th {\n",
       "        text-align: right;\n",
       "    }\n",
       "</style>\n",
       "<table border=\"1\" class=\"dataframe\">\n",
       "  <thead>\n",
       "    <tr style=\"text-align: right;\">\n",
       "      <th></th>\n",
       "      <th>Province/State</th>\n",
       "      <th>Country/Region</th>\n",
       "      <th>Lat</th>\n",
       "      <th>Long</th>\n",
       "      <th>Date</th>\n",
       "      <th>Confirmed</th>\n",
       "      <th>Deaths</th>\n",
       "      <th>Recovered</th>\n",
       "      <th>Active</th>\n",
       "      <th>WHO Region</th>\n",
       "    </tr>\n",
       "  </thead>\n",
       "  <tbody>\n",
       "    <tr>\n",
       "      <th>0</th>\n",
       "      <td>NaN</td>\n",
       "      <td>Afghanistan</td>\n",
       "      <td>33.93911</td>\n",
       "      <td>67.709953</td>\n",
       "      <td>2020-01-22</td>\n",
       "      <td>0</td>\n",
       "      <td>0</td>\n",
       "      <td>0</td>\n",
       "      <td>0</td>\n",
       "      <td>Eastern Mediterranean</td>\n",
       "    </tr>\n",
       "    <tr>\n",
       "      <th>1</th>\n",
       "      <td>NaN</td>\n",
       "      <td>Albania</td>\n",
       "      <td>41.15330</td>\n",
       "      <td>20.168300</td>\n",
       "      <td>2020-01-22</td>\n",
       "      <td>0</td>\n",
       "      <td>0</td>\n",
       "      <td>0</td>\n",
       "      <td>0</td>\n",
       "      <td>Europe</td>\n",
       "    </tr>\n",
       "    <tr>\n",
       "      <th>2</th>\n",
       "      <td>NaN</td>\n",
       "      <td>Algeria</td>\n",
       "      <td>28.03390</td>\n",
       "      <td>1.659600</td>\n",
       "      <td>2020-01-22</td>\n",
       "      <td>0</td>\n",
       "      <td>0</td>\n",
       "      <td>0</td>\n",
       "      <td>0</td>\n",
       "      <td>Africa</td>\n",
       "    </tr>\n",
       "    <tr>\n",
       "      <th>3</th>\n",
       "      <td>NaN</td>\n",
       "      <td>Andorra</td>\n",
       "      <td>42.50630</td>\n",
       "      <td>1.521800</td>\n",
       "      <td>2020-01-22</td>\n",
       "      <td>0</td>\n",
       "      <td>0</td>\n",
       "      <td>0</td>\n",
       "      <td>0</td>\n",
       "      <td>Europe</td>\n",
       "    </tr>\n",
       "    <tr>\n",
       "      <th>4</th>\n",
       "      <td>NaN</td>\n",
       "      <td>Angola</td>\n",
       "      <td>-11.20270</td>\n",
       "      <td>17.873900</td>\n",
       "      <td>2020-01-22</td>\n",
       "      <td>0</td>\n",
       "      <td>0</td>\n",
       "      <td>0</td>\n",
       "      <td>0</td>\n",
       "      <td>Africa</td>\n",
       "    </tr>\n",
       "  </tbody>\n",
       "</table>\n",
       "</div>"
      ],
      "text/plain": [
       "  Province/State Country/Region       Lat       Long        Date  Confirmed  \\\n",
       "0            NaN    Afghanistan  33.93911  67.709953  2020-01-22          0   \n",
       "1            NaN        Albania  41.15330  20.168300  2020-01-22          0   \n",
       "2            NaN        Algeria  28.03390   1.659600  2020-01-22          0   \n",
       "3            NaN        Andorra  42.50630   1.521800  2020-01-22          0   \n",
       "4            NaN         Angola -11.20270  17.873900  2020-01-22          0   \n",
       "\n",
       "   Deaths  Recovered  Active             WHO Region  \n",
       "0       0          0       0  Eastern Mediterranean  \n",
       "1       0          0       0                 Europe  \n",
       "2       0          0       0                 Africa  \n",
       "3       0          0       0                 Europe  \n",
       "4       0          0       0                 Africa  "
      ]
     },
     "execution_count": 13,
     "metadata": {},
     "output_type": "execute_result"
    }
   ],
   "source": [
    "df.head()"
   ]
  },
  {
   "cell_type": "code",
   "execution_count": 14,
   "metadata": {},
   "outputs": [
    {
     "data": {
      "text/plain": [
       "(49068, 10)"
      ]
     },
     "execution_count": 14,
     "metadata": {},
     "output_type": "execute_result"
    }
   ],
   "source": [
    "df.shape"
   ]
  },
  {
   "cell_type": "code",
   "execution_count": 15,
   "metadata": {},
   "outputs": [
    {
     "data": {
      "text/plain": [
       "Province/State     object\n",
       "Country/Region     object\n",
       "Lat               float64\n",
       "Long              float64\n",
       "Date               object\n",
       "Confirmed           int64\n",
       "Deaths              int64\n",
       "Recovered           int64\n",
       "Active              int64\n",
       "WHO Region         object\n",
       "dtype: object"
      ]
     },
     "execution_count": 15,
     "metadata": {},
     "output_type": "execute_result"
    }
   ],
   "source": [
    "df.dtypes"
   ]
  },
  {
   "cell_type": "code",
   "execution_count": 16,
   "metadata": {},
   "outputs": [],
   "source": [
    "df['Date']=pd.to_datetime(df['Date'])"
   ]
  },
  {
   "cell_type": "code",
   "execution_count": 17,
   "metadata": {},
   "outputs": [
    {
     "data": {
      "text/plain": [
       "Province/State            object\n",
       "Country/Region            object\n",
       "Lat                      float64\n",
       "Long                     float64\n",
       "Date              datetime64[ns]\n",
       "Confirmed                  int64\n",
       "Deaths                     int64\n",
       "Recovered                  int64\n",
       "Active                     int64\n",
       "WHO Region                object\n",
       "dtype: object"
      ]
     },
     "execution_count": 17,
     "metadata": {},
     "output_type": "execute_result"
    }
   ],
   "source": [
    "df.dtypes"
   ]
  },
  {
   "cell_type": "code",
   "execution_count": 18,
   "metadata": {},
   "outputs": [
    {
     "data": {
      "text/plain": [
       "Province/State    34404\n",
       "Country/Region        0\n",
       "Lat                   0\n",
       "Long                  0\n",
       "Date                  0\n",
       "Confirmed             0\n",
       "Deaths                0\n",
       "Recovered             0\n",
       "Active                0\n",
       "WHO Region            0\n",
       "dtype: int64"
      ]
     },
     "execution_count": 18,
     "metadata": {},
     "output_type": "execute_result"
    }
   ],
   "source": [
    "df.isnull().sum()"
   ]
  },
  {
   "cell_type": "code",
   "execution_count": 19,
   "metadata": {},
   "outputs": [
    {
     "data": {
      "text/plain": [
       "188"
      ]
     },
     "execution_count": 19,
     "metadata": {},
     "output_type": "execute_result"
    }
   ],
   "source": [
    "df['Date'].nunique()"
   ]
  },
  {
   "cell_type": "code",
   "execution_count": 20,
   "metadata": {},
   "outputs": [
    {
     "name": "stderr",
     "output_type": "stream",
     "text": [
      "C:\\Users\\KIIT\\anaconda3\\envs\\pytorch\\lib\\site-packages\\ipykernel_launcher.py:1: FutureWarning: Indexing with multiple keys (implicitly converted to a tuple of keys) will be deprecated, use a list instead.\n",
      "  \"\"\"Entry point for launching an IPython kernel.\n"
     ]
    }
   ],
   "source": [
    "total=df.groupby(['Date'])['Confirmed','Deaths','Recovered','Active'].sum().reset_index()"
   ]
  },
  {
   "cell_type": "code",
   "execution_count": 21,
   "metadata": {},
   "outputs": [
    {
     "data": {
      "text/html": [
       "<div>\n",
       "<style scoped>\n",
       "    .dataframe tbody tr th:only-of-type {\n",
       "        vertical-align: middle;\n",
       "    }\n",
       "\n",
       "    .dataframe tbody tr th {\n",
       "        vertical-align: top;\n",
       "    }\n",
       "\n",
       "    .dataframe thead th {\n",
       "        text-align: right;\n",
       "    }\n",
       "</style>\n",
       "<table border=\"1\" class=\"dataframe\">\n",
       "  <thead>\n",
       "    <tr style=\"text-align: right;\">\n",
       "      <th></th>\n",
       "      <th>Date</th>\n",
       "      <th>Confirmed</th>\n",
       "      <th>Deaths</th>\n",
       "      <th>Recovered</th>\n",
       "      <th>Active</th>\n",
       "    </tr>\n",
       "  </thead>\n",
       "  <tbody>\n",
       "    <tr>\n",
       "      <th>0</th>\n",
       "      <td>2020-01-22</td>\n",
       "      <td>555</td>\n",
       "      <td>17</td>\n",
       "      <td>28</td>\n",
       "      <td>510</td>\n",
       "    </tr>\n",
       "    <tr>\n",
       "      <th>1</th>\n",
       "      <td>2020-01-23</td>\n",
       "      <td>654</td>\n",
       "      <td>18</td>\n",
       "      <td>30</td>\n",
       "      <td>606</td>\n",
       "    </tr>\n",
       "    <tr>\n",
       "      <th>2</th>\n",
       "      <td>2020-01-24</td>\n",
       "      <td>941</td>\n",
       "      <td>26</td>\n",
       "      <td>36</td>\n",
       "      <td>879</td>\n",
       "    </tr>\n",
       "    <tr>\n",
       "      <th>3</th>\n",
       "      <td>2020-01-25</td>\n",
       "      <td>1434</td>\n",
       "      <td>42</td>\n",
       "      <td>39</td>\n",
       "      <td>1353</td>\n",
       "    </tr>\n",
       "    <tr>\n",
       "      <th>4</th>\n",
       "      <td>2020-01-26</td>\n",
       "      <td>2118</td>\n",
       "      <td>56</td>\n",
       "      <td>52</td>\n",
       "      <td>2010</td>\n",
       "    </tr>\n",
       "  </tbody>\n",
       "</table>\n",
       "</div>"
      ],
      "text/plain": [
       "        Date  Confirmed  Deaths  Recovered  Active\n",
       "0 2020-01-22        555      17         28     510\n",
       "1 2020-01-23        654      18         30     606\n",
       "2 2020-01-24        941      26         36     879\n",
       "3 2020-01-25       1434      42         39    1353\n",
       "4 2020-01-26       2118      56         52    2010"
      ]
     },
     "execution_count": 21,
     "metadata": {},
     "output_type": "execute_result"
    }
   ],
   "source": [
    "total.head()"
   ]
  },
  {
   "cell_type": "code",
   "execution_count": null,
   "metadata": {},
   "outputs": [],
   "source": []
  },
  {
   "cell_type": "code",
   "execution_count": 22,
   "metadata": {},
   "outputs": [],
   "source": [
    "df_prophet=total.rename(columns={'Date':'ds','Confirmed':'y'})"
   ]
  },
  {
   "cell_type": "code",
   "execution_count": 23,
   "metadata": {},
   "outputs": [
    {
     "data": {
      "text/html": [
       "<div>\n",
       "<style scoped>\n",
       "    .dataframe tbody tr th:only-of-type {\n",
       "        vertical-align: middle;\n",
       "    }\n",
       "\n",
       "    .dataframe tbody tr th {\n",
       "        vertical-align: top;\n",
       "    }\n",
       "\n",
       "    .dataframe thead th {\n",
       "        text-align: right;\n",
       "    }\n",
       "</style>\n",
       "<table border=\"1\" class=\"dataframe\">\n",
       "  <thead>\n",
       "    <tr style=\"text-align: right;\">\n",
       "      <th></th>\n",
       "      <th>ds</th>\n",
       "      <th>y</th>\n",
       "      <th>Deaths</th>\n",
       "      <th>Recovered</th>\n",
       "      <th>Active</th>\n",
       "    </tr>\n",
       "  </thead>\n",
       "  <tbody>\n",
       "    <tr>\n",
       "      <th>0</th>\n",
       "      <td>2020-01-22</td>\n",
       "      <td>555</td>\n",
       "      <td>17</td>\n",
       "      <td>28</td>\n",
       "      <td>510</td>\n",
       "    </tr>\n",
       "    <tr>\n",
       "      <th>1</th>\n",
       "      <td>2020-01-23</td>\n",
       "      <td>654</td>\n",
       "      <td>18</td>\n",
       "      <td>30</td>\n",
       "      <td>606</td>\n",
       "    </tr>\n",
       "    <tr>\n",
       "      <th>2</th>\n",
       "      <td>2020-01-24</td>\n",
       "      <td>941</td>\n",
       "      <td>26</td>\n",
       "      <td>36</td>\n",
       "      <td>879</td>\n",
       "    </tr>\n",
       "    <tr>\n",
       "      <th>3</th>\n",
       "      <td>2020-01-25</td>\n",
       "      <td>1434</td>\n",
       "      <td>42</td>\n",
       "      <td>39</td>\n",
       "      <td>1353</td>\n",
       "    </tr>\n",
       "    <tr>\n",
       "      <th>4</th>\n",
       "      <td>2020-01-26</td>\n",
       "      <td>2118</td>\n",
       "      <td>56</td>\n",
       "      <td>52</td>\n",
       "      <td>2010</td>\n",
       "    </tr>\n",
       "  </tbody>\n",
       "</table>\n",
       "</div>"
      ],
      "text/plain": [
       "          ds     y  Deaths  Recovered  Active\n",
       "0 2020-01-22   555      17         28     510\n",
       "1 2020-01-23   654      18         30     606\n",
       "2 2020-01-24   941      26         36     879\n",
       "3 2020-01-25  1434      42         39    1353\n",
       "4 2020-01-26  2118      56         52    2010"
      ]
     },
     "execution_count": 23,
     "metadata": {},
     "output_type": "execute_result"
    }
   ],
   "source": [
    "df_prophet.head()"
   ]
  },
  {
   "cell_type": "code",
   "execution_count": null,
   "metadata": {},
   "outputs": [],
   "source": []
  },
  {
   "cell_type": "code",
   "execution_count": 24,
   "metadata": {},
   "outputs": [],
   "source": [
    "m=Prophet(yearly_seasonality=True,daily_seasonality=True)"
   ]
  },
  {
   "cell_type": "code",
   "execution_count": 25,
   "metadata": {},
   "outputs": [],
   "source": [
    "model=m.fit(df_prophet)"
   ]
  },
  {
   "cell_type": "code",
   "execution_count": null,
   "metadata": {},
   "outputs": [],
   "source": []
  },
  {
   "cell_type": "code",
   "execution_count": 26,
   "metadata": {},
   "outputs": [
    {
     "data": {
      "text/plain": [
       "OrderedDict([('yearly',\n",
       "              {'period': 365.25,\n",
       "               'fourier_order': 10,\n",
       "               'prior_scale': 10.0,\n",
       "               'mode': 'additive',\n",
       "               'condition_name': None}),\n",
       "             ('weekly',\n",
       "              {'period': 7,\n",
       "               'fourier_order': 3,\n",
       "               'prior_scale': 10.0,\n",
       "               'mode': 'additive',\n",
       "               'condition_name': None}),\n",
       "             ('daily',\n",
       "              {'period': 1,\n",
       "               'fourier_order': 4,\n",
       "               'prior_scale': 10.0,\n",
       "               'mode': 'additive',\n",
       "               'condition_name': None})])"
      ]
     },
     "execution_count": 26,
     "metadata": {},
     "output_type": "execute_result"
    }
   ],
   "source": [
    "model.seasonalities"
   ]
  },
  {
   "cell_type": "code",
   "execution_count": 27,
   "metadata": {},
   "outputs": [],
   "source": [
    "### ### now I am going to do forecasting so to do forecasting I need some Future Days \n",
    "future_global=model.make_future_dataframe(periods=30,freq='D')"
   ]
  },
  {
   "cell_type": "code",
   "execution_count": 28,
   "metadata": {},
   "outputs": [
    {
     "data": {
      "text/html": [
       "<div>\n",
       "<style scoped>\n",
       "    .dataframe tbody tr th:only-of-type {\n",
       "        vertical-align: middle;\n",
       "    }\n",
       "\n",
       "    .dataframe tbody tr th {\n",
       "        vertical-align: top;\n",
       "    }\n",
       "\n",
       "    .dataframe thead th {\n",
       "        text-align: right;\n",
       "    }\n",
       "</style>\n",
       "<table border=\"1\" class=\"dataframe\">\n",
       "  <thead>\n",
       "    <tr style=\"text-align: right;\">\n",
       "      <th></th>\n",
       "      <th>ds</th>\n",
       "    </tr>\n",
       "  </thead>\n",
       "  <tbody>\n",
       "    <tr>\n",
       "      <th>0</th>\n",
       "      <td>2020-01-22</td>\n",
       "    </tr>\n",
       "    <tr>\n",
       "      <th>1</th>\n",
       "      <td>2020-01-23</td>\n",
       "    </tr>\n",
       "    <tr>\n",
       "      <th>2</th>\n",
       "      <td>2020-01-24</td>\n",
       "    </tr>\n",
       "    <tr>\n",
       "      <th>3</th>\n",
       "      <td>2020-01-25</td>\n",
       "    </tr>\n",
       "    <tr>\n",
       "      <th>4</th>\n",
       "      <td>2020-01-26</td>\n",
       "    </tr>\n",
       "  </tbody>\n",
       "</table>\n",
       "</div>"
      ],
      "text/plain": [
       "          ds\n",
       "0 2020-01-22\n",
       "1 2020-01-23\n",
       "2 2020-01-24\n",
       "3 2020-01-25\n",
       "4 2020-01-26"
      ]
     },
     "execution_count": 28,
     "metadata": {},
     "output_type": "execute_result"
    }
   ],
   "source": [
    "future_global.head()"
   ]
  },
  {
   "cell_type": "code",
   "execution_count": 29,
   "metadata": {},
   "outputs": [
    {
     "data": {
      "text/plain": [
       "(188, 5)"
      ]
     },
     "execution_count": 29,
     "metadata": {},
     "output_type": "execute_result"
    }
   ],
   "source": [
    "df_prophet.shape"
   ]
  },
  {
   "cell_type": "code",
   "execution_count": 30,
   "metadata": {},
   "outputs": [
    {
     "data": {
      "text/plain": [
       "(218, 1)"
      ]
     },
     "execution_count": 30,
     "metadata": {},
     "output_type": "execute_result"
    }
   ],
   "source": [
    "future_global.shape"
   ]
  },
  {
   "cell_type": "code",
   "execution_count": 31,
   "metadata": {},
   "outputs": [
    {
     "data": {
      "text/plain": [
       "183   2020-07-23\n",
       "184   2020-07-24\n",
       "185   2020-07-25\n",
       "186   2020-07-26\n",
       "187   2020-07-27\n",
       "Name: ds, dtype: datetime64[ns]"
      ]
     },
     "execution_count": 31,
     "metadata": {},
     "output_type": "execute_result"
    }
   ],
   "source": [
    "df_prophet['ds'].tail()"
   ]
  },
  {
   "cell_type": "code",
   "execution_count": 32,
   "metadata": {},
   "outputs": [
    {
     "data": {
      "text/html": [
       "<div>\n",
       "<style scoped>\n",
       "    .dataframe tbody tr th:only-of-type {\n",
       "        vertical-align: middle;\n",
       "    }\n",
       "\n",
       "    .dataframe tbody tr th {\n",
       "        vertical-align: top;\n",
       "    }\n",
       "\n",
       "    .dataframe thead th {\n",
       "        text-align: right;\n",
       "    }\n",
       "</style>\n",
       "<table border=\"1\" class=\"dataframe\">\n",
       "  <thead>\n",
       "    <tr style=\"text-align: right;\">\n",
       "      <th></th>\n",
       "      <th>ds</th>\n",
       "    </tr>\n",
       "  </thead>\n",
       "  <tbody>\n",
       "    <tr>\n",
       "      <th>213</th>\n",
       "      <td>2020-08-22</td>\n",
       "    </tr>\n",
       "    <tr>\n",
       "      <th>214</th>\n",
       "      <td>2020-08-23</td>\n",
       "    </tr>\n",
       "    <tr>\n",
       "      <th>215</th>\n",
       "      <td>2020-08-24</td>\n",
       "    </tr>\n",
       "    <tr>\n",
       "      <th>216</th>\n",
       "      <td>2020-08-25</td>\n",
       "    </tr>\n",
       "    <tr>\n",
       "      <th>217</th>\n",
       "      <td>2020-08-26</td>\n",
       "    </tr>\n",
       "  </tbody>\n",
       "</table>\n",
       "</div>"
      ],
      "text/plain": [
       "            ds\n",
       "213 2020-08-22\n",
       "214 2020-08-23\n",
       "215 2020-08-24\n",
       "216 2020-08-25\n",
       "217 2020-08-26"
      ]
     },
     "execution_count": 32,
     "metadata": {},
     "output_type": "execute_result"
    }
   ],
   "source": [
    "future_global.tail()"
   ]
  },
  {
   "cell_type": "code",
   "execution_count": null,
   "metadata": {},
   "outputs": [],
   "source": []
  },
  {
   "cell_type": "code",
   "execution_count": 33,
   "metadata": {},
   "outputs": [
    {
     "data": {
      "text/html": [
       "<div>\n",
       "<style scoped>\n",
       "    .dataframe tbody tr th:only-of-type {\n",
       "        vertical-align: middle;\n",
       "    }\n",
       "\n",
       "    .dataframe tbody tr th {\n",
       "        vertical-align: top;\n",
       "    }\n",
       "\n",
       "    .dataframe thead th {\n",
       "        text-align: right;\n",
       "    }\n",
       "</style>\n",
       "<table border=\"1\" class=\"dataframe\">\n",
       "  <thead>\n",
       "    <tr style=\"text-align: right;\">\n",
       "      <th></th>\n",
       "      <th>ds</th>\n",
       "      <th>trend</th>\n",
       "      <th>yhat_lower</th>\n",
       "      <th>yhat_upper</th>\n",
       "      <th>trend_lower</th>\n",
       "      <th>trend_upper</th>\n",
       "      <th>additive_terms</th>\n",
       "      <th>additive_terms_lower</th>\n",
       "      <th>additive_terms_upper</th>\n",
       "      <th>daily</th>\n",
       "      <th>...</th>\n",
       "      <th>weekly</th>\n",
       "      <th>weekly_lower</th>\n",
       "      <th>weekly_upper</th>\n",
       "      <th>yearly</th>\n",
       "      <th>yearly_lower</th>\n",
       "      <th>yearly_upper</th>\n",
       "      <th>multiplicative_terms</th>\n",
       "      <th>multiplicative_terms_lower</th>\n",
       "      <th>multiplicative_terms_upper</th>\n",
       "      <th>yhat</th>\n",
       "    </tr>\n",
       "  </thead>\n",
       "  <tbody>\n",
       "    <tr>\n",
       "      <th>0</th>\n",
       "      <td>2020-01-22</td>\n",
       "      <td>-7.018962e+05</td>\n",
       "      <td>-1.802415e+04</td>\n",
       "      <td>4.250968e+03</td>\n",
       "      <td>-7.018962e+05</td>\n",
       "      <td>-7.018962e+05</td>\n",
       "      <td>6.954249e+05</td>\n",
       "      <td>6.954249e+05</td>\n",
       "      <td>6.954249e+05</td>\n",
       "      <td>-2.812650e+06</td>\n",
       "      <td>...</td>\n",
       "      <td>-6369.606926</td>\n",
       "      <td>-6369.606926</td>\n",
       "      <td>-6369.606926</td>\n",
       "      <td>3.514445e+06</td>\n",
       "      <td>3.514445e+06</td>\n",
       "      <td>3.514445e+06</td>\n",
       "      <td>0.0</td>\n",
       "      <td>0.0</td>\n",
       "      <td>0.0</td>\n",
       "      <td>-6.471259e+03</td>\n",
       "    </tr>\n",
       "    <tr>\n",
       "      <th>1</th>\n",
       "      <td>2020-01-23</td>\n",
       "      <td>-6.179622e+05</td>\n",
       "      <td>-9.319899e+03</td>\n",
       "      <td>1.255686e+04</td>\n",
       "      <td>-6.179622e+05</td>\n",
       "      <td>-6.179622e+05</td>\n",
       "      <td>6.198606e+05</td>\n",
       "      <td>6.198606e+05</td>\n",
       "      <td>6.198606e+05</td>\n",
       "      <td>-2.812650e+06</td>\n",
       "      <td>...</td>\n",
       "      <td>1142.048105</td>\n",
       "      <td>1142.048105</td>\n",
       "      <td>1142.048105</td>\n",
       "      <td>3.431369e+06</td>\n",
       "      <td>3.431369e+06</td>\n",
       "      <td>3.431369e+06</td>\n",
       "      <td>0.0</td>\n",
       "      <td>0.0</td>\n",
       "      <td>0.0</td>\n",
       "      <td>1.898345e+03</td>\n",
       "    </tr>\n",
       "    <tr>\n",
       "      <th>2</th>\n",
       "      <td>2020-01-24</td>\n",
       "      <td>-5.340283e+05</td>\n",
       "      <td>-1.712294e+03</td>\n",
       "      <td>2.172911e+04</td>\n",
       "      <td>-5.340283e+05</td>\n",
       "      <td>-5.340283e+05</td>\n",
       "      <td>5.438221e+05</td>\n",
       "      <td>5.438221e+05</td>\n",
       "      <td>5.438221e+05</td>\n",
       "      <td>-2.812650e+06</td>\n",
       "      <td>...</td>\n",
       "      <td>8854.537859</td>\n",
       "      <td>8854.537859</td>\n",
       "      <td>8854.537859</td>\n",
       "      <td>3.347618e+06</td>\n",
       "      <td>3.347618e+06</td>\n",
       "      <td>3.347618e+06</td>\n",
       "      <td>0.0</td>\n",
       "      <td>0.0</td>\n",
       "      <td>0.0</td>\n",
       "      <td>9.793832e+03</td>\n",
       "    </tr>\n",
       "    <tr>\n",
       "      <th>3</th>\n",
       "      <td>2020-01-25</td>\n",
       "      <td>-4.500943e+05</td>\n",
       "      <td>8.801338e+02</td>\n",
       "      <td>2.371963e+04</td>\n",
       "      <td>-4.500943e+05</td>\n",
       "      <td>-4.500943e+05</td>\n",
       "      <td>4.624646e+05</td>\n",
       "      <td>4.624646e+05</td>\n",
       "      <td>4.624646e+05</td>\n",
       "      <td>-2.812650e+06</td>\n",
       "      <td>...</td>\n",
       "      <td>11388.548585</td>\n",
       "      <td>11388.548585</td>\n",
       "      <td>11388.548585</td>\n",
       "      <td>3.263727e+06</td>\n",
       "      <td>3.263727e+06</td>\n",
       "      <td>3.263727e+06</td>\n",
       "      <td>0.0</td>\n",
       "      <td>0.0</td>\n",
       "      <td>0.0</td>\n",
       "      <td>1.237031e+04</td>\n",
       "    </tr>\n",
       "    <tr>\n",
       "      <th>4</th>\n",
       "      <td>2020-01-26</td>\n",
       "      <td>-3.661604e+05</td>\n",
       "      <td>-6.070317e+03</td>\n",
       "      <td>1.670588e+04</td>\n",
       "      <td>-3.661604e+05</td>\n",
       "      <td>-3.661604e+05</td>\n",
       "      <td>3.706590e+05</td>\n",
       "      <td>3.706590e+05</td>\n",
       "      <td>3.706590e+05</td>\n",
       "      <td>-2.812650e+06</td>\n",
       "      <td>...</td>\n",
       "      <td>3221.351425</td>\n",
       "      <td>3221.351425</td>\n",
       "      <td>3221.351425</td>\n",
       "      <td>3.180088e+06</td>\n",
       "      <td>3.180088e+06</td>\n",
       "      <td>3.180088e+06</td>\n",
       "      <td>0.0</td>\n",
       "      <td>0.0</td>\n",
       "      <td>0.0</td>\n",
       "      <td>4.498576e+03</td>\n",
       "    </tr>\n",
       "    <tr>\n",
       "      <th>...</th>\n",
       "      <td>...</td>\n",
       "      <td>...</td>\n",
       "      <td>...</td>\n",
       "      <td>...</td>\n",
       "      <td>...</td>\n",
       "      <td>...</td>\n",
       "      <td>...</td>\n",
       "      <td>...</td>\n",
       "      <td>...</td>\n",
       "      <td>...</td>\n",
       "      <td>...</td>\n",
       "      <td>...</td>\n",
       "      <td>...</td>\n",
       "      <td>...</td>\n",
       "      <td>...</td>\n",
       "      <td>...</td>\n",
       "      <td>...</td>\n",
       "      <td>...</td>\n",
       "      <td>...</td>\n",
       "      <td>...</td>\n",
       "      <td>...</td>\n",
       "    </tr>\n",
       "    <tr>\n",
       "      <th>213</th>\n",
       "      <td>2020-08-22</td>\n",
       "      <td>1.877123e+07</td>\n",
       "      <td>1.491473e+07</td>\n",
       "      <td>1.503690e+07</td>\n",
       "      <td>1.871270e+07</td>\n",
       "      <td>1.883774e+07</td>\n",
       "      <td>-3.798605e+06</td>\n",
       "      <td>-3.798605e+06</td>\n",
       "      <td>-3.798605e+06</td>\n",
       "      <td>-2.812650e+06</td>\n",
       "      <td>...</td>\n",
       "      <td>11388.548585</td>\n",
       "      <td>11388.548585</td>\n",
       "      <td>11388.548585</td>\n",
       "      <td>-9.973433e+05</td>\n",
       "      <td>-9.973433e+05</td>\n",
       "      <td>-9.973433e+05</td>\n",
       "      <td>0.0</td>\n",
       "      <td>0.0</td>\n",
       "      <td>0.0</td>\n",
       "      <td>1.497262e+07</td>\n",
       "    </tr>\n",
       "    <tr>\n",
       "      <th>214</th>\n",
       "      <td>2020-08-23</td>\n",
       "      <td>1.886570e+07</td>\n",
       "      <td>1.442885e+07</td>\n",
       "      <td>1.456083e+07</td>\n",
       "      <td>1.880397e+07</td>\n",
       "      <td>1.893672e+07</td>\n",
       "      <td>-4.373363e+06</td>\n",
       "      <td>-4.373363e+06</td>\n",
       "      <td>-4.373363e+06</td>\n",
       "      <td>-2.812650e+06</td>\n",
       "      <td>...</td>\n",
       "      <td>3221.351425</td>\n",
       "      <td>3221.351425</td>\n",
       "      <td>3221.351425</td>\n",
       "      <td>-1.563934e+06</td>\n",
       "      <td>-1.563934e+06</td>\n",
       "      <td>-1.563934e+06</td>\n",
       "      <td>0.0</td>\n",
       "      <td>0.0</td>\n",
       "      <td>0.0</td>\n",
       "      <td>1.449233e+07</td>\n",
       "    </tr>\n",
       "    <tr>\n",
       "      <th>215</th>\n",
       "      <td>2020-08-24</td>\n",
       "      <td>1.896016e+07</td>\n",
       "      <td>1.393789e+07</td>\n",
       "      <td>1.407761e+07</td>\n",
       "      <td>1.889545e+07</td>\n",
       "      <td>1.903416e+07</td>\n",
       "      <td>-4.955856e+06</td>\n",
       "      <td>-4.955856e+06</td>\n",
       "      <td>-4.955856e+06</td>\n",
       "      <td>-2.812650e+06</td>\n",
       "      <td>...</td>\n",
       "      <td>-8379.505267</td>\n",
       "      <td>-8379.505267</td>\n",
       "      <td>-8379.505267</td>\n",
       "      <td>-2.134826e+06</td>\n",
       "      <td>-2.134826e+06</td>\n",
       "      <td>-2.134826e+06</td>\n",
       "      <td>0.0</td>\n",
       "      <td>0.0</td>\n",
       "      <td>0.0</td>\n",
       "      <td>1.400430e+07</td>\n",
       "    </tr>\n",
       "    <tr>\n",
       "      <th>216</th>\n",
       "      <td>2020-08-25</td>\n",
       "      <td>1.905463e+07</td>\n",
       "      <td>1.346011e+07</td>\n",
       "      <td>1.360558e+07</td>\n",
       "      <td>1.898756e+07</td>\n",
       "      <td>1.913099e+07</td>\n",
       "      <td>-5.525326e+06</td>\n",
       "      <td>-5.525326e+06</td>\n",
       "      <td>-5.525326e+06</td>\n",
       "      <td>-2.812650e+06</td>\n",
       "      <td>...</td>\n",
       "      <td>-9857.373781</td>\n",
       "      <td>-9857.373781</td>\n",
       "      <td>-9857.373781</td>\n",
       "      <td>-2.702818e+06</td>\n",
       "      <td>-2.702818e+06</td>\n",
       "      <td>-2.702818e+06</td>\n",
       "      <td>0.0</td>\n",
       "      <td>0.0</td>\n",
       "      <td>0.0</td>\n",
       "      <td>1.352930e+07</td>\n",
       "    </tr>\n",
       "    <tr>\n",
       "      <th>217</th>\n",
       "      <td>2020-08-26</td>\n",
       "      <td>1.914909e+07</td>\n",
       "      <td>1.299731e+07</td>\n",
       "      <td>1.315145e+07</td>\n",
       "      <td>1.907768e+07</td>\n",
       "      <td>1.922982e+07</td>\n",
       "      <td>-6.079383e+06</td>\n",
       "      <td>-6.079383e+06</td>\n",
       "      <td>-6.079383e+06</td>\n",
       "      <td>-2.812650e+06</td>\n",
       "      <td>...</td>\n",
       "      <td>-6369.606926</td>\n",
       "      <td>-6369.606926</td>\n",
       "      <td>-6369.606926</td>\n",
       "      <td>-3.260363e+06</td>\n",
       "      <td>-3.260363e+06</td>\n",
       "      <td>-3.260363e+06</td>\n",
       "      <td>0.0</td>\n",
       "      <td>0.0</td>\n",
       "      <td>0.0</td>\n",
       "      <td>1.306971e+07</td>\n",
       "    </tr>\n",
       "  </tbody>\n",
       "</table>\n",
       "<p>218 rows × 22 columns</p>\n",
       "</div>"
      ],
      "text/plain": [
       "            ds         trend    yhat_lower    yhat_upper   trend_lower  \\\n",
       "0   2020-01-22 -7.018962e+05 -1.802415e+04  4.250968e+03 -7.018962e+05   \n",
       "1   2020-01-23 -6.179622e+05 -9.319899e+03  1.255686e+04 -6.179622e+05   \n",
       "2   2020-01-24 -5.340283e+05 -1.712294e+03  2.172911e+04 -5.340283e+05   \n",
       "3   2020-01-25 -4.500943e+05  8.801338e+02  2.371963e+04 -4.500943e+05   \n",
       "4   2020-01-26 -3.661604e+05 -6.070317e+03  1.670588e+04 -3.661604e+05   \n",
       "..         ...           ...           ...           ...           ...   \n",
       "213 2020-08-22  1.877123e+07  1.491473e+07  1.503690e+07  1.871270e+07   \n",
       "214 2020-08-23  1.886570e+07  1.442885e+07  1.456083e+07  1.880397e+07   \n",
       "215 2020-08-24  1.896016e+07  1.393789e+07  1.407761e+07  1.889545e+07   \n",
       "216 2020-08-25  1.905463e+07  1.346011e+07  1.360558e+07  1.898756e+07   \n",
       "217 2020-08-26  1.914909e+07  1.299731e+07  1.315145e+07  1.907768e+07   \n",
       "\n",
       "      trend_upper  additive_terms  additive_terms_lower  additive_terms_upper  \\\n",
       "0   -7.018962e+05    6.954249e+05          6.954249e+05          6.954249e+05   \n",
       "1   -6.179622e+05    6.198606e+05          6.198606e+05          6.198606e+05   \n",
       "2   -5.340283e+05    5.438221e+05          5.438221e+05          5.438221e+05   \n",
       "3   -4.500943e+05    4.624646e+05          4.624646e+05          4.624646e+05   \n",
       "4   -3.661604e+05    3.706590e+05          3.706590e+05          3.706590e+05   \n",
       "..            ...             ...                   ...                   ...   \n",
       "213  1.883774e+07   -3.798605e+06         -3.798605e+06         -3.798605e+06   \n",
       "214  1.893672e+07   -4.373363e+06         -4.373363e+06         -4.373363e+06   \n",
       "215  1.903416e+07   -4.955856e+06         -4.955856e+06         -4.955856e+06   \n",
       "216  1.913099e+07   -5.525326e+06         -5.525326e+06         -5.525326e+06   \n",
       "217  1.922982e+07   -6.079383e+06         -6.079383e+06         -6.079383e+06   \n",
       "\n",
       "            daily  ...        weekly  weekly_lower  weekly_upper  \\\n",
       "0   -2.812650e+06  ...  -6369.606926  -6369.606926  -6369.606926   \n",
       "1   -2.812650e+06  ...   1142.048105   1142.048105   1142.048105   \n",
       "2   -2.812650e+06  ...   8854.537859   8854.537859   8854.537859   \n",
       "3   -2.812650e+06  ...  11388.548585  11388.548585  11388.548585   \n",
       "4   -2.812650e+06  ...   3221.351425   3221.351425   3221.351425   \n",
       "..            ...  ...           ...           ...           ...   \n",
       "213 -2.812650e+06  ...  11388.548585  11388.548585  11388.548585   \n",
       "214 -2.812650e+06  ...   3221.351425   3221.351425   3221.351425   \n",
       "215 -2.812650e+06  ...  -8379.505267  -8379.505267  -8379.505267   \n",
       "216 -2.812650e+06  ...  -9857.373781  -9857.373781  -9857.373781   \n",
       "217 -2.812650e+06  ...  -6369.606926  -6369.606926  -6369.606926   \n",
       "\n",
       "           yearly  yearly_lower  yearly_upper  multiplicative_terms  \\\n",
       "0    3.514445e+06  3.514445e+06  3.514445e+06                   0.0   \n",
       "1    3.431369e+06  3.431369e+06  3.431369e+06                   0.0   \n",
       "2    3.347618e+06  3.347618e+06  3.347618e+06                   0.0   \n",
       "3    3.263727e+06  3.263727e+06  3.263727e+06                   0.0   \n",
       "4    3.180088e+06  3.180088e+06  3.180088e+06                   0.0   \n",
       "..            ...           ...           ...                   ...   \n",
       "213 -9.973433e+05 -9.973433e+05 -9.973433e+05                   0.0   \n",
       "214 -1.563934e+06 -1.563934e+06 -1.563934e+06                   0.0   \n",
       "215 -2.134826e+06 -2.134826e+06 -2.134826e+06                   0.0   \n",
       "216 -2.702818e+06 -2.702818e+06 -2.702818e+06                   0.0   \n",
       "217 -3.260363e+06 -3.260363e+06 -3.260363e+06                   0.0   \n",
       "\n",
       "     multiplicative_terms_lower  multiplicative_terms_upper          yhat  \n",
       "0                           0.0                         0.0 -6.471259e+03  \n",
       "1                           0.0                         0.0  1.898345e+03  \n",
       "2                           0.0                         0.0  9.793832e+03  \n",
       "3                           0.0                         0.0  1.237031e+04  \n",
       "4                           0.0                         0.0  4.498576e+03  \n",
       "..                          ...                         ...           ...  \n",
       "213                         0.0                         0.0  1.497262e+07  \n",
       "214                         0.0                         0.0  1.449233e+07  \n",
       "215                         0.0                         0.0  1.400430e+07  \n",
       "216                         0.0                         0.0  1.352930e+07  \n",
       "217                         0.0                         0.0  1.306971e+07  \n",
       "\n",
       "[218 rows x 22 columns]"
      ]
     },
     "execution_count": 33,
     "metadata": {},
     "output_type": "execute_result"
    }
   ],
   "source": [
    "### now do Prediction on future_global\n",
    "prediction=model.predict(future_global)\n",
    "prediction"
   ]
  },
  {
   "cell_type": "code",
   "execution_count": 34,
   "metadata": {},
   "outputs": [
    {
     "data": {
      "text/html": [
       "<div>\n",
       "<style scoped>\n",
       "    .dataframe tbody tr th:only-of-type {\n",
       "        vertical-align: middle;\n",
       "    }\n",
       "\n",
       "    .dataframe tbody tr th {\n",
       "        vertical-align: top;\n",
       "    }\n",
       "\n",
       "    .dataframe thead th {\n",
       "        text-align: right;\n",
       "    }\n",
       "</style>\n",
       "<table border=\"1\" class=\"dataframe\">\n",
       "  <thead>\n",
       "    <tr style=\"text-align: right;\">\n",
       "      <th></th>\n",
       "      <th>ds</th>\n",
       "      <th>yhat</th>\n",
       "      <th>yhat_lower</th>\n",
       "      <th>yhat_upper</th>\n",
       "    </tr>\n",
       "  </thead>\n",
       "  <tbody>\n",
       "    <tr>\n",
       "      <th>213</th>\n",
       "      <td>2020-08-22</td>\n",
       "      <td>1.497262e+07</td>\n",
       "      <td>1.491473e+07</td>\n",
       "      <td>1.503690e+07</td>\n",
       "    </tr>\n",
       "    <tr>\n",
       "      <th>214</th>\n",
       "      <td>2020-08-23</td>\n",
       "      <td>1.449233e+07</td>\n",
       "      <td>1.442885e+07</td>\n",
       "      <td>1.456083e+07</td>\n",
       "    </tr>\n",
       "    <tr>\n",
       "      <th>215</th>\n",
       "      <td>2020-08-24</td>\n",
       "      <td>1.400430e+07</td>\n",
       "      <td>1.393789e+07</td>\n",
       "      <td>1.407761e+07</td>\n",
       "    </tr>\n",
       "    <tr>\n",
       "      <th>216</th>\n",
       "      <td>2020-08-25</td>\n",
       "      <td>1.352930e+07</td>\n",
       "      <td>1.346011e+07</td>\n",
       "      <td>1.360558e+07</td>\n",
       "    </tr>\n",
       "    <tr>\n",
       "      <th>217</th>\n",
       "      <td>2020-08-26</td>\n",
       "      <td>1.306971e+07</td>\n",
       "      <td>1.299731e+07</td>\n",
       "      <td>1.315145e+07</td>\n",
       "    </tr>\n",
       "  </tbody>\n",
       "</table>\n",
       "</div>"
      ],
      "text/plain": [
       "            ds          yhat    yhat_lower    yhat_upper\n",
       "213 2020-08-22  1.497262e+07  1.491473e+07  1.503690e+07\n",
       "214 2020-08-23  1.449233e+07  1.442885e+07  1.456083e+07\n",
       "215 2020-08-24  1.400430e+07  1.393789e+07  1.407761e+07\n",
       "216 2020-08-25  1.352930e+07  1.346011e+07  1.360558e+07\n",
       "217 2020-08-26  1.306971e+07  1.299731e+07  1.315145e+07"
      ]
     },
     "execution_count": 34,
     "metadata": {},
     "output_type": "execute_result"
    }
   ],
   "source": [
    "prediction[['ds','yhat','yhat_lower','yhat_upper']].tail()"
   ]
  },
  {
   "cell_type": "code",
   "execution_count": null,
   "metadata": {},
   "outputs": [],
   "source": []
  },
  {
   "cell_type": "code",
   "execution_count": 35,
   "metadata": {},
   "outputs": [
    {
     "data": {
      "image/png": "[encoded data removed]",
      "text/plain": [
       "<Figure size 1000x600 with 1 Axes>"
      ]
     },
     "execution_count": 35,
     "metadata": {},
     "output_type": "execute_result"
    }
   ],
   "source": [
    "#### plot the predictions u will see these are with respect to yhat\n",
    "model.plot(prediction)"
   ]
  },
  {
   "cell_type": "markdown",
   "metadata": {},
   "source": [
    "### Conclusion--> This is what our prediction looks like. The direction of overall case numbers is probably true, u will observe how cases rises exponentially"
   ]
  },
  {
   "cell_type": "code",
   "execution_count": null,
   "metadata": {},
   "outputs": [],
   "source": []
  },
  {
   "cell_type": "code",
   "execution_count": 36,
   "metadata": {},
   "outputs": [
    {
     "data": {
      "image/png": "[encoded data removed]",
      "text/plain": [
       "<Figure size 900x1200 with 4 Axes>"
      ]
     },
     "execution_count": 36,
     "metadata": {},
     "output_type": "execute_result"
    }
   ],
   "source": [
    "##### Visualize Each Components[Trends,Weekly]\n",
    "model.plot_components(prediction)"
   ]
  },
  {
   "cell_type": "code",
   "execution_count": null,
   "metadata": {},
   "outputs": [],
   "source": []
  },
  {
   "cell_type": "code",
   "execution_count": null,
   "metadata": {},
   "outputs": [],
   "source": []
  },
  {
   "cell_type": "code",
   "execution_count": 37,
   "metadata": {},
   "outputs": [],
   "source": [
    "#### The prophet model identifies points at which the trend changes and those can be plotted.¶\n",
    "from fbprophet.plot import add_changepoints_to_plot"
   ]
  },
  {
   "cell_type": "code",
   "execution_count": 38,
   "metadata": {},
   "outputs": [],
   "source": [
    "fig=model.plot(prediction)\n",
    "\n",
    "a=add_changepoints_to_plot(fig.gca(),model,prediction)"
   ]
  },
  {
   "cell_type": "code",
   "execution_count": null,
   "metadata": {},
   "outputs": [],
   "source": []
  },
  {
   "cell_type": "code",
   "execution_count": 39,
   "metadata": {},
   "outputs": [],
   "source": [
    "from fbprophet.diagnostics import cross_validation"
   ]
  },
  {
   "cell_type": "code",
   "execution_count": 40,
   "metadata": {},
   "outputs": [
    {
     "name": "stderr",
     "output_type": "stream",
     "text": [
      "INFO:fbprophet:Making 5 forecasts with cutoffs between 2020-04-28 00:00:00 and 2020-06-27 00:00:00\n",
      "WARNING:fbprophet:Seasonality has period of 365.25 days which is larger than initial window. Consider increasing initial.\n"
     ]
    },
    {
     "data": {
      "application/vnd.jupyter.widget-view+json": {
       "model_id": "fd699f47e2b940bc990cadfbbf5d3842",
       "version_major": 2,
       "version_minor": 0
      },
      "text/plain": [
       "  0%|          | 0/5 [00:00<?, ?it/s]"
      ]
     },
     "metadata": {},
     "output_type": "display_data"
    }
   ],
   "source": [
    "df_cv=cross_validation(model,horizon='30 days',period='15 days',initial='90 days')\n",
    "## horizon='365 days'--> for how many days we have to cross validate=====\n",
    "\n",
    "## Computes forecasts from historical cutoff points Beginning from..\n",
    "\n",
    "## (end - horizon) it means it is going to take that date that is (end - horizon) bcz on these date we have to just \n",
    "## cross-validate for the new dataset that we have to find out\n",
    "\n",
    "## period=180 as from documentation of func as period=0.5*365=180 or {period=1/2*horizon value}\n",
    "## initial -How many total no. of days we actually want-- 3*365 from documentation of function or  {initial=3*horizon}"
   ]
  },
  {
   "cell_type": "code",
   "execution_count": 41,
   "metadata": {},
   "outputs": [
    {
     "data": {
      "text/html": [
       "<div>\n",
       "<style scoped>\n",
       "    .dataframe tbody tr th:only-of-type {\n",
       "        vertical-align: middle;\n",
       "    }\n",
       "\n",
       "    .dataframe tbody tr th {\n",
       "        vertical-align: top;\n",
       "    }\n",
       "\n",
       "    .dataframe thead th {\n",
       "        text-align: right;\n",
       "    }\n",
       "</style>\n",
       "<table border=\"1\" class=\"dataframe\">\n",
       "  <thead>\n",
       "    <tr style=\"text-align: right;\">\n",
       "      <th></th>\n",
       "      <th>ds</th>\n",
       "      <th>yhat</th>\n",
       "      <th>yhat_lower</th>\n",
       "      <th>yhat_upper</th>\n",
       "      <th>y</th>\n",
       "      <th>cutoff</th>\n",
       "    </tr>\n",
       "  </thead>\n",
       "  <tbody>\n",
       "    <tr>\n",
       "      <th>0</th>\n",
       "      <td>2020-04-29</td>\n",
       "      <td>3.180573e+06</td>\n",
       "      <td>3.176535e+06</td>\n",
       "      <td>3.184595e+06</td>\n",
       "      <td>3185195</td>\n",
       "      <td>2020-04-28</td>\n",
       "    </tr>\n",
       "    <tr>\n",
       "      <th>1</th>\n",
       "      <td>2020-04-30</td>\n",
       "      <td>3.253741e+06</td>\n",
       "      <td>3.249794e+06</td>\n",
       "      <td>3.257870e+06</td>\n",
       "      <td>3268876</td>\n",
       "      <td>2020-04-28</td>\n",
       "    </tr>\n",
       "    <tr>\n",
       "      <th>2</th>\n",
       "      <td>2020-05-01</td>\n",
       "      <td>3.322668e+06</td>\n",
       "      <td>3.318538e+06</td>\n",
       "      <td>3.327191e+06</td>\n",
       "      <td>3355922</td>\n",
       "      <td>2020-04-28</td>\n",
       "    </tr>\n",
       "    <tr>\n",
       "      <th>3</th>\n",
       "      <td>2020-05-02</td>\n",
       "      <td>3.384776e+06</td>\n",
       "      <td>3.380105e+06</td>\n",
       "      <td>3.389606e+06</td>\n",
       "      <td>3437608</td>\n",
       "      <td>2020-04-28</td>\n",
       "    </tr>\n",
       "    <tr>\n",
       "      <th>4</th>\n",
       "      <td>2020-05-03</td>\n",
       "      <td>3.442155e+06</td>\n",
       "      <td>3.437477e+06</td>\n",
       "      <td>3.447522e+06</td>\n",
       "      <td>3515244</td>\n",
       "      <td>2020-04-28</td>\n",
       "    </tr>\n",
       "  </tbody>\n",
       "</table>\n",
       "</div>"
      ],
      "text/plain": [
       "          ds          yhat    yhat_lower    yhat_upper        y     cutoff\n",
       "0 2020-04-29  3.180573e+06  3.176535e+06  3.184595e+06  3185195 2020-04-28\n",
       "1 2020-04-30  3.253741e+06  3.249794e+06  3.257870e+06  3268876 2020-04-28\n",
       "2 2020-05-01  3.322668e+06  3.318538e+06  3.327191e+06  3355922 2020-04-28\n",
       "3 2020-05-02  3.384776e+06  3.380105e+06  3.389606e+06  3437608 2020-04-28\n",
       "4 2020-05-03  3.442155e+06  3.437477e+06  3.447522e+06  3515244 2020-04-28"
      ]
     },
     "execution_count": 41,
     "metadata": {},
     "output_type": "execute_result"
    }
   ],
   "source": [
    "df_cv.head()"
   ]
  },
  {
   "cell_type": "code",
   "execution_count": 42,
   "metadata": {},
   "outputs": [
    {
     "data": {
      "text/plain": [
       "(150, 6)"
      ]
     },
     "execution_count": 42,
     "metadata": {},
     "output_type": "execute_result"
    }
   ],
   "source": [
    "df_cv.shape"
   ]
  },
  {
   "cell_type": "code",
   "execution_count": null,
   "metadata": {},
   "outputs": [],
   "source": []
  },
  {
   "cell_type": "code",
   "execution_count": null,
   "metadata": {},
   "outputs": [],
   "source": []
  },
  {
   "cell_type": "markdown",
   "metadata": {},
   "source": [
    "#### Obtaining the Performance Metrics\n",
    "    We use the performance_metrics utility to compute the Mean Squared Error(MSE), Root Mean Squared Error(RMSE),Mean Absolute Error(MAE), Mean Absolute Percentage Error(MAPE) and the coverage of the the yhat_lower and yhat_upper estimates.\n"
   ]
  },
  {
   "cell_type": "code",
   "execution_count": null,
   "metadata": {},
   "outputs": [],
   "source": []
  },
  {
   "cell_type": "code",
   "execution_count": 52,
   "metadata": {},
   "outputs": [],
   "source": [
    "from fbprophet.diagnostics import performance_metrics"
   ]
  },
  {
   "cell_type": "code",
   "execution_count": 53,
   "metadata": {},
   "outputs": [
    {
     "data": {
      "text/html": [
       "<div>\n",
       "<style scoped>\n",
       "    .dataframe tbody tr th:only-of-type {\n",
       "        vertical-align: middle;\n",
       "    }\n",
       "\n",
       "    .dataframe tbody tr th {\n",
       "        vertical-align: top;\n",
       "    }\n",
       "\n",
       "    .dataframe thead th {\n",
       "        text-align: right;\n",
       "    }\n",
       "</style>\n",
       "<table border=\"1\" class=\"dataframe\">\n",
       "  <thead>\n",
       "    <tr style=\"text-align: right;\">\n",
       "      <th></th>\n",
       "      <th>horizon</th>\n",
       "      <th>mse</th>\n",
       "      <th>rmse</th>\n",
       "      <th>mae</th>\n",
       "      <th>mape</th>\n",
       "      <th>mdape</th>\n",
       "      <th>coverage</th>\n",
       "    </tr>\n",
       "  </thead>\n",
       "  <tbody>\n",
       "    <tr>\n",
       "      <th>0</th>\n",
       "      <td>3 days</td>\n",
       "      <td>2.093346e+09</td>\n",
       "      <td>45753.101434</td>\n",
       "      <td>36431.052452</td>\n",
       "      <td>0.006139</td>\n",
       "      <td>0.004630</td>\n",
       "      <td>0.0</td>\n",
       "    </tr>\n",
       "    <tr>\n",
       "      <th>1</th>\n",
       "      <td>4 days</td>\n",
       "      <td>3.785481e+09</td>\n",
       "      <td>61526.263689</td>\n",
       "      <td>52525.584806</td>\n",
       "      <td>0.009072</td>\n",
       "      <td>0.006551</td>\n",
       "      <td>0.0</td>\n",
       "    </tr>\n",
       "    <tr>\n",
       "      <th>2</th>\n",
       "      <td>5 days</td>\n",
       "      <td>6.628901e+09</td>\n",
       "      <td>81418.062139</td>\n",
       "      <td>68935.986428</td>\n",
       "      <td>0.012149</td>\n",
       "      <td>0.010795</td>\n",
       "      <td>0.0</td>\n",
       "    </tr>\n",
       "    <tr>\n",
       "      <th>3</th>\n",
       "      <td>6 days</td>\n",
       "      <td>1.151473e+10</td>\n",
       "      <td>107306.692579</td>\n",
       "      <td>88868.560955</td>\n",
       "      <td>0.015789</td>\n",
       "      <td>0.015369</td>\n",
       "      <td>0.0</td>\n",
       "    </tr>\n",
       "    <tr>\n",
       "      <th>4</th>\n",
       "      <td>7 days</td>\n",
       "      <td>2.085000e+10</td>\n",
       "      <td>144395.292665</td>\n",
       "      <td>119909.833699</td>\n",
       "      <td>0.020979</td>\n",
       "      <td>0.020792</td>\n",
       "      <td>0.0</td>\n",
       "    </tr>\n",
       "  </tbody>\n",
       "</table>\n",
       "</div>"
      ],
      "text/plain": [
       "  horizon           mse           rmse            mae      mape     mdape  \\\n",
       "0  3 days  2.093346e+09   45753.101434   36431.052452  0.006139  0.004630   \n",
       "1  4 days  3.785481e+09   61526.263689   52525.584806  0.009072  0.006551   \n",
       "2  5 days  6.628901e+09   81418.062139   68935.986428  0.012149  0.010795   \n",
       "3  6 days  1.151473e+10  107306.692579   88868.560955  0.015789  0.015369   \n",
       "4  7 days  2.085000e+10  144395.292665  119909.833699  0.020979  0.020792   \n",
       "\n",
       "   coverage  \n",
       "0       0.0  \n",
       "1       0.0  \n",
       "2       0.0  \n",
       "3       0.0  \n",
       "4       0.0  "
      ]
     },
     "execution_count": 53,
     "metadata": {},
     "output_type": "execute_result"
    }
   ],
   "source": [
    "df_performance=performance_metrics(df_cv)\n",
    "df_performance.head()"
   ]
  },
  {
   "cell_type": "code",
   "execution_count": null,
   "metadata": {},
   "outputs": [],
   "source": []
  },
  {
   "cell_type": "code",
   "execution_count": 54,
   "metadata": {},
   "outputs": [],
   "source": [
    "from fbprophet.plot import plot_cross_validation_metric"
   ]
  },
  {
   "cell_type": "code",
   "execution_count": 55,
   "metadata": {},
   "outputs": [
    {
     "data": {
      "image/png": "[encoded data removed]",
      "text/plain": [
       "<Figure size 1000x600 with 1 Axes>"
      ]
     },
     "execution_count": 55,
     "metadata": {},
     "output_type": "execute_result"
    }
   ],
   "source": [
    "df_performance=plot_cross_validation_metric(df_cv,metric='rmse')\n",
    "df_performance"
   ]
  },
  {
   "cell_type": "code",
   "execution_count": 56,
   "metadata": {},
   "outputs": [
    {
     "data": {
      "image/png": "[encoded data removed]",
      "text/plain": [
       "<Figure size 1000x600 with 1 Axes>"
      ]
     },
     "execution_count": 56,
     "metadata": {},
     "output_type": "execute_result"
    }
   ],
   "source": [
    "df_performance=plot_cross_validation_metric(df_cv,metric='mse')\n",
    "df_performance"
   ]
  },
  {
   "cell_type": "code",
   "execution_count": 57,
   "metadata": {},
   "outputs": [
    {
     "data": {
      "image/png": "[encoded data removed]",
      "text/plain": [
       "<Figure size 1000x600 with 1 Axes>"
      ]
     },
     "execution_count": 57,
     "metadata": {},
     "output_type": "execute_result"
    }
   ],
   "source": [
    "df_performance=plot_cross_validation_metric(df_cv,metric='mape')\n",
    "df_performance"
   ]
  },
  {
   "cell_type": "code",
   "execution_count": null,
   "metadata": {},
   "outputs": [],
   "source": []
  }
 ],
 "metadata": {
  "kernelspec": {
   "display_name": "Python 3",
   "language": "python",
   "name": "python3"
  },
  "language_info": {
   "codemirror_mode": {
    "name": "ipython",
    "version": 3
   },
   "file_extension": ".py",
   "mimetype": "text/x-python",
   "name": "python",
   "nbconvert_exporter": "python",
   "pygments_lexer": "ipython3",
   "version": "3.7.11"
  }
 },
 "nbformat": 4,
 "nbformat_minor": 4
}
